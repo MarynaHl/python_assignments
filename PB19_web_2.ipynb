{
  "cells": [
    {
      "cell_type": "markdown",
      "metadata": {
        "id": "view-in-github",
        "colab_type": "text"
      },
      "source": [
        "<a href=\"https://colab.research.google.com/github/MarynaHl/hlushak_assignments/blob/main/PB19_web_2.ipynb\" target=\"_parent\"><img src=\"https://colab.research.google.com/assets/colab-badge.svg\" alt=\"Open In Colab\"/></a>"
      ]
    },
    {
      "cell_type": "markdown",
      "source": [
        "# Контекст та цілі\n",
        "\n",
        "0. Формат роботи\n",
        " - Кирилиця та латиниця\n",
        " - .py замість .ipynb\n",
        " - Питання?\n",
        "\n",
        "1. Що ми сьогодні робитимемо?\n",
        " - Самостійне вирішення задач\n",
        " - Колективне вирішення задач\n",
        " - Парне вирішення задач\n",
        "2. Для чого ми це робитимемо?\n",
        " - Цього тижня ви дізнались про базові структури програмування - цикли та умовні оператори. Знання цих концептів уже достатньо, щоб почати вирішувати алгоритмічні задачки. Саме цьому і присвячений цей вебінар.\n",
        "3. Як це вписується в те ще було до чи буде після?\n",
        " - Conditions and Loops - Control Flow, Functions - for anything that is used more than once."
      ],
      "metadata": {
        "id": "xa5bHRHVwmJd"
      }
    },
    {
      "cell_type": "markdown",
      "source": [
        "# Розігрів\n",
        "\n",
        "1. Починаємо із числа 12345.\n",
        "2. Якщо число парне, розділимо на 2.\n",
        "3. Якщо непарне - множимо на 3 та додамо 1.\n",
        "4. Повторюємо кроки 2 та 3 із результатом, допоки результат не буде дорівнювати 1.\n",
        "\n",
        "Написати в чат зум кількість кроків, що знадобилась, щоб перетворити 12345 у 1."
      ],
      "metadata": {
        "id": "2Jc7UAtjSoMm"
      }
    },
    {
      "cell_type": "markdown",
      "source": [
        "# Цікавий факт та імплементація на Python\n"
      ],
      "metadata": {
        "id": "jhNuRzGCSzVb"
      }
    },
    {
      "cell_type": "markdown",
      "source": [
        "Наведена задача також відома як [Гіпотеза Коллатца](https://uk.wikipedia.org/wiki/%D0%93%D1%96%D0%BF%D0%BE%D1%82%D0%B5%D0%B7%D0%B0_%D0%9A%D0%BE%D0%BB%D0%BB%D0%B0%D1%82%D1%86%D0%B0) - відома в математиці гіпотеза, яка каже, що з якого б натурального числа ми б не почали, ми завжди прийдемо до 1 за скінчену кількість кроків.\n",
        "\n",
        "Ця гіпотеза, хоч і виглядає простою, досі не була доведена."
      ],
      "metadata": {
        "id": "3Qk03AMzTkWf"
      }
    },
    {
      "cell_type": "code",
      "source": [
        "def collatz_sequence(n):\n",
        "    amount = 0\n",
        "    while n != 1:\n",
        "        amount += 1\n",
        "        print(n, end=' ')\n",
        "        if n % 2 == 0:\n",
        "            n = n // 2\n",
        "        else:\n",
        "            n = 3 * n + 1\n",
        "    print(1)\n",
        "    print(f\"The total amount of steps: {amount}\")\n",
        "\n",
        "start_number = 12345\n",
        "collatz_sequence(start_number)\n"
      ],
      "metadata": {
        "colab": {
          "base_uri": "https://localhost:8080/"
        },
        "id": "RCbijixmTheX",
        "outputId": "51e38776-3317-46b2-b6f1-d4838880fffd"
      },
      "execution_count": null,
      "outputs": [
        {
          "output_type": "stream",
          "name": "stdout",
          "text": [
            "12345 37036 18518 9259 27778 13889 41668 20834 10417 31252 15626 7813 23440 11720 5860 2930 1465 4396 2198 1099 3298 1649 4948 2474 1237 3712 1856 928 464 232 116 58 29 88 44 22 11 34 17 52 26 13 40 20 10 5 16 8 4 2 1\n",
            "The total amount of steps: 50\n"
          ]
        }
      ]
    },
    {
      "cell_type": "markdown",
      "source": [
        "# Practice\n",
        "\n",
        "[Link](https://colab.research.google.com/drive/1TjFvLGk5tHAHTX8Ue-cEGcQ3M6u3_71k)"
      ],
      "metadata": {
        "id": "erJ64xDQDi7a"
      }
    },
    {
      "cell_type": "code",
      "source": [
        "# Sum of Digits\n",
        "\n",
        "# Write a program that takes an integer as input and calculates the sum of its digits.\n",
        "\n",
        "# For example, if the input is 1234, the output should be 10.\n",
        "\n",
        "def sum_of_digits(number):\n",
        "    num_str = str(number)\n",
        "    digit_sum = 0\n",
        "    for digit in num_str:\n",
        "        digit_sum += int(digit)\n",
        "    return digit_sum\n",
        "\n",
        "user_input = int(input(\"Enter an integer: \"))\n",
        "result = sum_of_digits(user_input)\n",
        "print(f\"The sum of digits is: {result}\")\n"
      ],
      "metadata": {
        "id": "ewrnGpu_FxTp",
        "colab": {
          "base_uri": "https://localhost:8080/"
        },
        "outputId": "16faa0b7-217c-4c3d-d3c1-8c41f61e2cd7"
      },
      "execution_count": 1,
      "outputs": [
        {
          "output_type": "stream",
          "name": "stdout",
          "text": [
            "Enter an integer: 1234\n",
            "The sum of digits is: 10\n"
          ]
        }
      ]
    },
    {
      "cell_type": "code",
      "source": [
        "# Factorial\n",
        "\n",
        "# Write a program that calculates the factorial of a given number.\n",
        "# The factorial of a number n is the product of all positive integers less than or equal to n.\n",
        "\n",
        "# For example, if the input is 5, the output should be 120 (since 5! = 5 * 4 * 3 * 2 * 1 = 120).\n",
        "\n",
        "def factorial(n):\n",
        "    if n == 0 or n == 1:\n",
        "        return 1\n",
        "    else:\n",
        "        return n * factorial(n - 1)\n",
        "\n",
        "user_input = int(input(\"Enter a number: \"))\n",
        "\n",
        "result = factorial(user_input)\n",
        "print(f\"The factorial of {user_input} is: {result}\")\n"
      ],
      "metadata": {
        "id": "sNd6plqgF1Qy",
        "colab": {
          "base_uri": "https://localhost:8080/"
        },
        "outputId": "78fe3716-d2dd-45da-b9c9-094f2fa5d16d"
      },
      "execution_count": 3,
      "outputs": [
        {
          "output_type": "stream",
          "name": "stdout",
          "text": [
            "Enter a number: 5\n",
            "The factorial of 5 is: 120\n"
          ]
        }
      ]
    },
    {
      "cell_type": "code",
      "source": [
        "# Prime Number Check\n",
        "\n",
        "#Write a program that checks if a given number is prime. A prime number is a natural number greater than 1\n",
        "# that has no positive divisors other than 1 and itself. For example, if the input is 7, the output should be true.\n",
        "\n",
        "def is_prime(number):\n",
        "    if number <= 1:\n",
        "        return False\n",
        "    elif number == 2:\n",
        "        return True\n",
        "    elif number % 2 == 0:\n",
        "        return False\n",
        "    else:\n",
        "        for i in range(3, int(number**0.5) + 1, 2):\n",
        "            if number % i == 0:\n",
        "                return False\n",
        "        return True\n",
        "\n",
        "user_input = int(input(\"Enter a number: \"))\n",
        "\n",
        "result = is_prime(user_input)\n",
        "print(f\"The number {user_input} is prime: {result}\")\n"
      ],
      "metadata": {
        "id": "8_q8ItUuVoLr",
        "colab": {
          "base_uri": "https://localhost:8080/"
        },
        "outputId": "026866cf-a641-42a4-d153-44f11b772602"
      },
      "execution_count": 4,
      "outputs": [
        {
          "output_type": "stream",
          "name": "stdout",
          "text": [
            "Enter a number: 7\n",
            "The number 7 is prime: True\n"
          ]
        }
      ]
    },
    {
      "cell_type": "code",
      "source": [
        "# Fibonacci Sequence\n",
        "\n",
        "# Write a program that prints the Fibonacci sequence up to a given number of terms.\n",
        "# The Fibonacci sequence is a series of numbers in which each number is the sum of the two preceding ones.\n",
        "\n",
        "# For example, if the input is 8, the output should be 0, 1, 1, 2, 3, 5, 8, 13.\n",
        "\n",
        "def fibonacci_sequence(n):\n",
        "    fib_sequence = []\n",
        "    a, b = 0, 1\n",
        "\n",
        "    for _ in range(n):\n",
        "        fib_sequence.append(a)\n",
        "        a, b = b, a + b\n",
        "\n",
        "    return fib_sequence\n",
        "\n",
        "num_terms = int(input(\"Enter the number of terms in the Fibonacci sequence: \"))\n",
        "\n",
        "result = fibonacci_sequence(num_terms)\n",
        "print(f\"The Fibonacci sequence with {num_terms} terms is: {result}\")\n"
      ],
      "metadata": {
        "id": "JNN_dBOkF2jY",
        "colab": {
          "base_uri": "https://localhost:8080/"
        },
        "outputId": "34130822-bae3-4ce7-a2c1-3c4f078c8bc4"
      },
      "execution_count": 6,
      "outputs": [
        {
          "output_type": "stream",
          "name": "stdout",
          "text": [
            "Enter the number of terms in the Fibonacci sequence: 8\n",
            "The Fibonacci sequence with 8 terms is: [0, 1, 1, 2, 3, 5, 8, 13]\n"
          ]
        }
      ]
    },
    {
      "cell_type": "code",
      "source": [
        "# Balanced parenthesis\n",
        "\n",
        "# Write a function `is_balanced`  that takes in a string of symbols '(' and ')' and tells whether it is balanced. Examples:\n",
        "\n",
        "# - `is_balanced('()') -> True`\n",
        "# - `is_balanced('())') -> False`\n",
        "# - `is_balanced('(()') -> False`\n",
        "# - `is_balanced(')())') -> False`\n",
        "\n",
        "def is_balanced(symbols):\n",
        "    stack = []\n",
        "\n",
        "    for symbol in symbols:\n",
        "        if symbol == '(':\n",
        "            stack.append(symbol)\n",
        "        elif symbol == ')':\n",
        "            if not stack:\n",
        "                return False\n",
        "            stack.pop()\n",
        "\n",
        "    return len(stack) == 0\n",
        "\n",
        "print(is_balanced('()'))     # Output: True\n",
        "print(is_balanced('())'))    # Output: False\n",
        "print(is_balanced('(()'))    # Output: False\n",
        "print(is_balanced(')())'))   # Output: False\n",
        "\n"
      ],
      "metadata": {
        "id": "Id4tkIsbVXDW",
        "colab": {
          "base_uri": "https://localhost:8080/"
        },
        "outputId": "2c055a01-8786-49ca-8789-50d68afd7b40"
      },
      "execution_count": 7,
      "outputs": [
        {
          "output_type": "stream",
          "name": "stdout",
          "text": [
            "True\n",
            "False\n",
            "False\n",
            "False\n"
          ]
        }
      ]
    },
    {
      "cell_type": "markdown",
      "source": [
        "# Links\n",
        "\n",
        "[Comprehensions](https://python.plainenglish.io/python-comprehensions-a-guide-to-writing-clean-and-efficient-code-99f1f568abff?sk=d3cb004ea8a8a0a25220a5f760a8e292)"
      ],
      "metadata": {
        "id": "669-QPauYdvE"
      }
    },
    {
      "cell_type": "markdown",
      "source": [
        "# Що далі?\n",
        "\n",
        "1. Scope (область видимості) and Tuples (кортеж)\n",
        "2. Lists (список)"
      ],
      "metadata": {
        "id": "etYfiAfAJAQK"
      }
    },
    {
      "cell_type": "markdown",
      "source": [
        "# Homework\n",
        "\n",
        "[link](https://www.notion.so/prjctr/Milestone-2-Secret-messages-457ca26017b745dfb598817949047c5c)"
      ],
      "metadata": {
        "id": "SINUAdyvR6Dn"
      }
    },
    {
      "cell_type": "markdown",
      "source": [
        "# Kahoot\n",
        "\n",
        "[Link](https://create.kahoot.it/details/b6070842-ce62-4e06-8814-28688d6576ad)"
      ],
      "metadata": {
        "id": "4V3QoAqwxkgv"
      }
    }
  ],
  "metadata": {
    "language_info": {
      "name": "python"
    },
    "orig_nbformat": 4,
    "colab": {
      "provenance": [],
      "include_colab_link": true
    },
    "kernelspec": {
      "name": "python3",
      "display_name": "Python 3"
    }
  },
  "nbformat": 4,
  "nbformat_minor": 0
}