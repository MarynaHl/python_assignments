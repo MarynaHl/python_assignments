{
  "cells": [
    {
      "cell_type": "markdown",
      "metadata": {
        "id": "view-in-github",
        "colab_type": "text"
      },
      "source": [
        "<a href=\"https://colab.research.google.com/github/MarynaHl/hlushak_assignments/blob/main/8_2_assigment.ipynb\" target=\"_parent\"><img src=\"https://colab.research.google.com/assets/colab-badge.svg\" alt=\"Open In Colab\"/></a>"
      ]
    },
    {
      "cell_type": "markdown",
      "metadata": {
        "id": "ozOVKEIKm8aP"
      },
      "source": [
        "# Assignment 8.2\n",
        "\n",
        "> Replace all TODOs with your code.\n",
        ">\n",
        "> Do not change any other code and do not add/remove cells!"
      ]
    },
    {
      "cell_type": "markdown",
      "metadata": {
        "id": "GRPST61knD1_"
      },
      "source": [
        "## Inheritance"
      ]
    },
    {
      "cell_type": "markdown",
      "metadata": {
        "id": "TIeo4PGfnH_f"
      },
      "source": [
        "### Task 1\n",
        "\n",
        "Define a base class named `Account` to a general bank account.\n",
        "\n",
        "The class should include an initialization method (`__init__`), taking into account the number and holder name and methods for depositing money to the account and withdrawing from it. Do not forget to ensure that the account never has a negative balance.\n",
        "\n",
        "String representation (`__str__`) should be an abstract method (throw a corresponding error if it is called on the base `Account` class"
      ]
    },
    {
      "cell_type": "code",
      "execution_count": 1,
      "metadata": {
        "id": "es4kM6panjNB"
      },
      "outputs": [],
      "source": [
        "from abc import ABC, abstractmethod\n",
        "\n",
        "class Account(ABC):\n",
        "    def __init__(self, acc_number, acc_holder):\n",
        "        self.acc_number = acc_number\n",
        "        self.acc_holder = acc_holder\n",
        "        self.balance = 0\n",
        "\n",
        "    def deposit(self, amount):\n",
        "        if amount > 0:\n",
        "            self.balance += amount\n",
        "            return True\n",
        "        else:\n",
        "            print(\"Deposit amount should be greater than zero.\")\n",
        "            return False\n",
        "\n",
        "    def withdraw(self, amount):\n",
        "        if self.balance >= amount > 0:\n",
        "            self.balance -= amount\n",
        "            return True\n",
        "        else:\n",
        "            print(\"Insufficient funds or invalid amount for withdrawal.\")\n",
        "            return False\n",
        "\n",
        "    @abstractmethod\n",
        "    def __str__(self):\n",
        "        pass\n"
      ]
    },
    {
      "cell_type": "markdown",
      "metadata": {
        "id": "4FjqIBbCnqh3"
      },
      "source": [
        "### Task 2\n",
        "\n",
        "Derive a `CurrentAccount` subclass from the `Account` base class and provide its own implementation for the `__str__` method. The text representation should mention the type of account, account number, and remaining balance."
      ]
    },
    {
      "cell_type": "code",
      "execution_count": 2,
      "metadata": {
        "id": "VNhS9FjCr-_k"
      },
      "outputs": [],
      "source": [
        "class CurrentAccount(Account):\n",
        "    def __init__(self, acc_number, acc_holder):\n",
        "        super().__init__(acc_number, acc_holder)\n",
        "\n",
        "    def __str__(self):\n",
        "        return f\"Current Account: {self.acc_number}, Balance: {self.balance}\""
      ]
    },
    {
      "cell_type": "markdown",
      "metadata": {
        "id": "h-CdQzoOtjy6"
      },
      "source": [
        "### Task 3\n",
        "\n",
        "Derive a `SavingsAccount` subclass from the `Account` base class and provide its implementation for the `__str__` method. When initializing objects of this class, the caller must provide the `interest_rate` parameter.\n",
        "\n",
        " The text representation should mention the type of account, interest rate, account number, and remaining balance.\n",
        "\n",
        "Provide additional method `add_interest` that adds interest based on `interest_rate`:\n",
        "$$new\\_balance = old\\_balance + old\\_balance * interest\\_rate$$"
      ]
    },
    {
      "cell_type": "code",
      "execution_count": 3,
      "metadata": {
        "id": "akQXzV_vtweO"
      },
      "outputs": [],
      "source": [
        "class SavingsAccount(Account):\n",
        "    def __init__(self, acc_number, acc_holder, interest_rate):\n",
        "        super().__init__(acc_number, acc_holder)\n",
        "        self.interest_rate = interest_rate\n",
        "\n",
        "    def __str__(self):\n",
        "        return f\"Savings Account: Interest Rate - {self.interest_rate}, Account Number - {self.acc_number}, Balance - {self.balance}\"\n",
        "\n",
        "    def add_interest(self):\n",
        "        interest_amount = self.balance * self.interest_rate\n",
        "        self.balance += interest_amount"
      ]
    },
    {
      "cell_type": "markdown",
      "metadata": {
        "id": "724_WyJry8i9"
      },
      "source": [
        "### Task 4\n",
        "\n",
        "Create an array with different accounts, add/withdraw money from some of them, iterate over the array, and print the text representation of each."
      ]
    },
    {
      "cell_type": "code",
      "execution_count": 4,
      "metadata": {
        "id": "BDZA3L25zZEo",
        "colab": {
          "base_uri": "https://localhost:8080/"
        },
        "outputId": "c69dfec6-8fd7-4c58-bfb7-707e608af6c5"
      },
      "outputs": [
        {
          "output_type": "stream",
          "name": "stdout",
          "text": [
            "Current Account: 123456789, Balance: 800\n",
            "Savings Account: Interest Rate - 0.05, Account Number - 987654321, Balance - 5250.0\n"
          ]
        }
      ],
      "source": [
        "# Create an array to store different accounts\n",
        "accounts = []\n",
        "\n",
        "# Create instances of different account types and add them to the array\n",
        "current_account = CurrentAccount(\"123456789\", \"John Doe\")\n",
        "current_account.deposit(1000)\n",
        "current_account.withdraw(200)\n",
        "accounts.append(current_account)\n",
        "\n",
        "savings_account = SavingsAccount(\"987654321\", \"Jane Smith\", 0.05)\n",
        "savings_account.deposit(5000)\n",
        "savings_account.add_interest()\n",
        "accounts.append(savings_account)\n",
        "\n",
        "# Iterate over the array and print the text representation of each account\n",
        "for account in accounts:\n",
        "    print(account)\n"
      ]
    }
  ],
  "metadata": {
    "colab": {
      "provenance": [],
      "toc_visible": true,
      "include_colab_link": true
    },
    "kernelspec": {
      "display_name": "Python 3",
      "name": "python3"
    },
    "language_info": {
      "name": "python"
    }
  },
  "nbformat": 4,
  "nbformat_minor": 0
}