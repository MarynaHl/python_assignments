{
  "cells": [
    {
      "cell_type": "markdown",
      "metadata": {
        "id": "view-in-github",
        "colab_type": "text"
      },
      "source": [
        "<a href=\"https://colab.research.google.com/github/MarynaHl/hlushak_assignments/blob/main/3_1_assignment.ipynb\" target=\"_parent\"><img src=\"https://colab.research.google.com/assets/colab-badge.svg\" alt=\"Open In Colab\"/></a>"
      ]
    },
    {
      "cell_type": "markdown",
      "metadata": {
        "id": "-89_Z_je0cfL"
      },
      "source": [
        "# Assignment 3.1\n",
        "\n",
        "> Replace all TODOs with your code.\n",
        ">\n",
        "> Do not change any other code and do not add/remove cells!"
      ]
    },
    {
      "cell_type": "markdown",
      "metadata": {
        "id": "w6E-GxTB0j4M"
      },
      "source": [
        "## Scope"
      ]
    },
    {
      "cell_type": "markdown",
      "metadata": {
        "id": "iEwuf_DP0cfM"
      },
      "source": [
        "### Task 1\n",
        "\n",
        "Make the program run without an error. You can only change the `calculate` function."
      ]
    },
    {
      "cell_type": "code",
      "execution_count": null,
      "metadata": {
        "id": "IWVOCWxx0cfM",
        "tags": [
          "task_1"
        ],
        "colab": {
          "base_uri": "https://localhost:8080/"
        },
        "outputId": "14ed4cdf-1b74-485a-bb63-ff332447e1fe"
      },
      "outputs": [
        {
          "output_type": "stream",
          "name": "stdout",
          "text": [
            "calculate called 5 times\n"
          ]
        }
      ],
      "source": [
        "call_counter = 0\n",
        "\n",
        "\n",
        "def calculate(a, b):\n",
        "    global call_counter\n",
        "    call_counter += 1\n",
        "    return a ** (b / 2)\n",
        "\n",
        "\n",
        "for _ in range(5):\n",
        "    calculate(5, 5)\n",
        "\n",
        "print(f'calculate called {call_counter} times') # should print \"calculate called 5 times\""
      ]
    },
    {
      "cell_type": "markdown",
      "metadata": {
        "id": "mZydlWw_0wzt"
      },
      "source": [
        "## Errors"
      ]
    },
    {
      "cell_type": "markdown",
      "metadata": {
        "id": "2z8HqsaK0cfN"
      },
      "source": [
        "### Task 2\n",
        "\n",
        "Your task is to come up with an example for each error type. Replace all TODOs with a single-line expression that when evaluated will raise the specified error."
      ]
    },
    {
      "cell_type": "code",
      "execution_count": 1,
      "metadata": {
        "id": "kva_9ycA0cfN",
        "tags": [
          "task_2"
        ],
        "colab": {
          "base_uri": "https://localhost:8080/",
          "height": 286
        },
        "outputId": "c5587c1c-482c-4260-eb22-98f433c7173c"
      },
      "outputs": [
        {
          "output_type": "error",
          "ename": "SyntaxError",
          "evalue": "invalid syntax (<string>, line 1)",
          "traceback": [
            "Traceback \u001b[0;36m(most recent call last)\u001b[0m:\n",
            "  File \u001b[1;32m\"/usr/local/lib/python3.10/dist-packages/IPython/core/interactiveshell.py\"\u001b[0m, line \u001b[1;32m3553\u001b[0m, in \u001b[1;35mrun_code\u001b[0m\n    exec(code_obj, self.user_global_ns, self.user_ns)\n",
            "\u001b[0;36m  File \u001b[0;32m\"<ipython-input-1-b08b184e6cc3>\"\u001b[0;36m, line \u001b[0;32m3\u001b[0;36m, in \u001b[0;35m<cell line: 3>\u001b[0;36m\u001b[0m\n\u001b[0;31m    eval(\"x = 5\")\u001b[0m\n",
            "\u001b[0;36m  File \u001b[0;32m\"<string>\"\u001b[0;36m, line \u001b[0;32m1\u001b[0m\n\u001b[0;31m    x = 5\u001b[0m\n\u001b[0m      ^\u001b[0m\n\u001b[0;31mSyntaxError\u001b[0m\u001b[0;31m:\u001b[0m invalid syntax\n"
          ]
        }
      ],
      "source": [
        "# a\n",
        "\n",
        "eval(\"x = 5\")  # eval має виконати рядок як код, але не правильний синтаксис для присвоєння значення змінній x.\n",
        "\n",
        "# should raise SyntaxError"
      ]
    },
    {
      "cell_type": "code",
      "source": [
        "# b\n",
        "\n",
        "int(\"abc\") # функція отримує аргумент правильного типу, але з не вірним значенням\n",
        "\n",
        "# should raise ValueError"
      ],
      "metadata": {
        "id": "r1NGsqySe9P0",
        "colab": {
          "base_uri": "https://localhost:8080/",
          "height": 250
        },
        "outputId": "52773892-7d56-414c-96b5-65b227f5e05e"
      },
      "execution_count": 2,
      "outputs": [
        {
          "output_type": "error",
          "ename": "ValueError",
          "evalue": "invalid literal for int() with base 10: 'abc'",
          "traceback": [
            "\u001b[0;31m---------------------------------------------------------------------------\u001b[0m",
            "\u001b[0;31mValueError\u001b[0m                                Traceback (most recent call last)",
            "\u001b[0;32m<ipython-input-2-428812f30c41>\u001b[0m in \u001b[0;36m<cell line: 3>\u001b[0;34m()\u001b[0m\n\u001b[1;32m      1\u001b[0m \u001b[0;31m# b\u001b[0m\u001b[0;34m\u001b[0m\u001b[0;34m\u001b[0m\u001b[0m\n\u001b[1;32m      2\u001b[0m \u001b[0;34m\u001b[0m\u001b[0m\n\u001b[0;32m----> 3\u001b[0;31m \u001b[0mint\u001b[0m\u001b[0;34m(\u001b[0m\u001b[0;34m\"abc\"\u001b[0m\u001b[0;34m)\u001b[0m \u001b[0;31m# функція отримує аргумент правильного типу, але з не вірним значенням\u001b[0m\u001b[0;34m\u001b[0m\u001b[0;34m\u001b[0m\u001b[0m\n\u001b[0m\u001b[1;32m      4\u001b[0m \u001b[0;34m\u001b[0m\u001b[0m\n\u001b[1;32m      5\u001b[0m \u001b[0;31m# should raise ValueError\u001b[0m\u001b[0;34m\u001b[0m\u001b[0;34m\u001b[0m\u001b[0m\n",
            "\u001b[0;31mValueError\u001b[0m: invalid literal for int() with base 10: 'abc'"
          ]
        }
      ]
    },
    {
      "cell_type": "code",
      "source": [
        "# c\n",
        "\n",
        "print(variable_not_defined) # коли змінна чи функція використовується, але не була визначена\n",
        "\n",
        "# should raise NameError"
      ],
      "metadata": {
        "id": "7HRYRoijfm6y",
        "colab": {
          "base_uri": "https://localhost:8080/",
          "height": 250
        },
        "outputId": "f770b99f-3880-45e7-8039-1e013c9e415a"
      },
      "execution_count": 3,
      "outputs": [
        {
          "output_type": "error",
          "ename": "NameError",
          "evalue": "name 'variable_not_defined' is not defined",
          "traceback": [
            "\u001b[0;31m---------------------------------------------------------------------------\u001b[0m",
            "\u001b[0;31mNameError\u001b[0m                                 Traceback (most recent call last)",
            "\u001b[0;32m<ipython-input-3-54a8137c75ad>\u001b[0m in \u001b[0;36m<cell line: 3>\u001b[0;34m()\u001b[0m\n\u001b[1;32m      1\u001b[0m \u001b[0;31m# c\u001b[0m\u001b[0;34m\u001b[0m\u001b[0;34m\u001b[0m\u001b[0m\n\u001b[1;32m      2\u001b[0m \u001b[0;34m\u001b[0m\u001b[0m\n\u001b[0;32m----> 3\u001b[0;31m \u001b[0mprint\u001b[0m\u001b[0;34m(\u001b[0m\u001b[0mvariable_not_defined\u001b[0m\u001b[0;34m)\u001b[0m \u001b[0;31m# коли змінна чи функція використовується, але не була визначена\u001b[0m\u001b[0;34m\u001b[0m\u001b[0;34m\u001b[0m\u001b[0m\n\u001b[0m\u001b[1;32m      4\u001b[0m \u001b[0;34m\u001b[0m\u001b[0m\n\u001b[1;32m      5\u001b[0m \u001b[0;31m# should raise NameError\u001b[0m\u001b[0;34m\u001b[0m\u001b[0;34m\u001b[0m\u001b[0m\n",
            "\u001b[0;31mNameError\u001b[0m: name 'variable_not_defined' is not defined"
          ]
        }
      ]
    },
    {
      "cell_type": "markdown",
      "source": [
        "## Tuples"
      ],
      "metadata": {
        "id": "atoe2n_8fxjR"
      }
    },
    {
      "cell_type": "markdown",
      "metadata": {
        "id": "IqjW7SGS0cfN"
      },
      "source": [
        "### Task 3\n",
        "\n",
        "Given a tuple `a1` create tuple `b1` which has all the elements of `a1` in reverse order."
      ]
    },
    {
      "cell_type": "code",
      "execution_count": null,
      "metadata": {
        "id": "p83RQvA40cfN",
        "tags": [
          "task_3"
        ],
        "colab": {
          "base_uri": "https://localhost:8080/"
        },
        "outputId": "dd5b0ddb-e206-4152-f69f-bbc93c7ca461"
      },
      "outputs": [
        {
          "output_type": "stream",
          "name": "stdout",
          "text": [
            "(5, 4, 3, 2, 1)\n"
          ]
        }
      ],
      "source": [
        "a1 = (1, 2, 3, 4, 5)\n",
        "\n",
        "b1 = a1[::-1]\n",
        "\n",
        "print(b1)  # should print (5, 4, 3, 2, 1)"
      ]
    },
    {
      "cell_type": "markdown",
      "source": [
        "### Task 4\n",
        "\n",
        "Write a function that will remove an element from tuple by index. It should create a new tuple."
      ],
      "metadata": {
        "id": "Q6MrylS6iUUX"
      }
    },
    {
      "cell_type": "code",
      "source": [
        "def pop_element(v1: tuple, i: int) -> tuple:\n",
        "    return v1[:i] + v1[i+1:]\n",
        "    pass\n",
        "\n",
        "print(pop_element((1,2,3), 1)) # should print (1, 3)"
      ],
      "metadata": {
        "id": "lsprATzgigYc",
        "colab": {
          "base_uri": "https://localhost:8080/"
        },
        "outputId": "90fc9b71-80e9-4b84-eb6a-71c5247f8c4c"
      },
      "execution_count": null,
      "outputs": [
        {
          "output_type": "stream",
          "name": "stdout",
          "text": [
            "(1, 3)\n"
          ]
        }
      ]
    },
    {
      "cell_type": "markdown",
      "metadata": {
        "id": "fceBNTpUnip6"
      },
      "source": [
        "### Task 5\n",
        "\n",
        "Implement a function that will add vectors elemnt-wise in the same-dimentional space. If the dimensions of vectors do not match, raise ValueError with the appropriate message."
      ]
    },
    {
      "cell_type": "code",
      "execution_count": null,
      "metadata": {
        "id": "VsoALrbBnsjs",
        "tags": [
          "task_4"
        ],
        "colab": {
          "base_uri": "https://localhost:8080/"
        },
        "outputId": "9a47cecf-f79e-40ad-d914-608fc2ecc1f5"
      },
      "outputs": [
        {
          "output_type": "stream",
          "name": "stdout",
          "text": [
            "(5, 7, 9)\n"
          ]
        }
      ],
      "source": [
        "def add(v1: tuple, v2: tuple) -> tuple:\n",
        "    if len(v1) != len(v2):\n",
        "        raise ValueError(\"Vectors must have the same dimensions for element-wise addition\")\n",
        "\n",
        "    return tuple(x + y for x, y in zip(v1, v2))\n",
        "\n",
        "print(add((1, 2, 3), (4, 5, 6)))  # should print (5, 7, 9)\n",
        "# print(add((1, 2, 3), (4, 5, 6, 7)))  # should raise error"
      ]
    },
    {
      "cell_type": "markdown",
      "source": [
        "### Task 6\n",
        "\n",
        "Implement a [dot product](https://en.wikipedia.org/wiki/Dot_product) of two vectors."
      ],
      "metadata": {
        "id": "K_QMm92QhkTJ"
      }
    },
    {
      "cell_type": "code",
      "source": [
        "def dot(v1: tuple, v2: tuple) -> tuple:\n",
        "\n",
        "    if len(v1) != len(v2):\n",
        "        raise ValueError(\"Vectors must have the same dimensions for dot product\")\n",
        "\n",
        "    return sum(x * y for x, y in zip(v1, v2))\n",
        "\n",
        "    pass\n",
        "\n",
        "print(dot((1,2,3), (4,5,6))) # should print 32\n",
        "# print(dot((1, 2, 3), (4, 5, 6, 7)))  # should raise error\n"
      ],
      "metadata": {
        "id": "6iY5pBDFhh_Y",
        "colab": {
          "base_uri": "https://localhost:8080/"
        },
        "outputId": "ca3d53ef-802a-4d9d-fbf6-8d2e3a8fd893"
      },
      "execution_count": null,
      "outputs": [
        {
          "output_type": "stream",
          "name": "stdout",
          "text": [
            "32\n"
          ]
        }
      ]
    },
    {
      "cell_type": "code",
      "source": [],
      "metadata": {
        "id": "U_wrQc4eYKNV"
      },
      "execution_count": null,
      "outputs": []
    }
  ],
  "metadata": {
    "colab": {
      "provenance": [],
      "include_colab_link": true
    },
    "kernelspec": {
      "display_name": "venv",
      "language": "python",
      "name": "python3"
    },
    "language_info": {
      "codemirror_mode": {
        "name": "ipython",
        "version": 3
      },
      "file_extension": ".py",
      "mimetype": "text/x-python",
      "name": "python",
      "nbconvert_exporter": "python",
      "pygments_lexer": "ipython3",
      "version": "3.9.6"
    },
    "orig_nbformat": 4
  },
  "nbformat": 4,
  "nbformat_minor": 0
}